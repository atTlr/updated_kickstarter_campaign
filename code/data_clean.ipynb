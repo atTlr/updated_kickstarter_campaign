{
 "cells": [
  {
   "cell_type": "code",
   "execution_count": 1,
   "metadata": {},
   "outputs": [],
   "source": [
    "import pandas as pd\n",
    "import numpy as np\n",
    "import os\n",
    "import re\n",
    "from datetime import datetime"
   ]
  },
  {
   "cell_type": "code",
   "execution_count": 2,
   "metadata": {},
   "outputs": [],
   "source": [
    "tdf = pd.read_csv('../data/ks-projects-201801.csv')"
   ]
  },
  {
   "cell_type": "code",
   "execution_count": 3,
   "metadata": {},
   "outputs": [],
   "source": [
    "df_1_9_kickstarter = [pd.read_csv(f'../data/kickstarter_2018/Kickstarter00{x}.csv') for x in range(1,10)]\n",
    "\n",
    "df_1 = pd.concat(df_1_9_kickstarter)\n"
   ]
  },
  {
   "cell_type": "code",
   "execution_count": 4,
   "metadata": {},
   "outputs": [],
   "source": [
    "df_1.reset_index(inplace = True)"
   ]
  },
  {
   "cell_type": "code",
   "execution_count": 5,
   "metadata": {},
   "outputs": [],
   "source": [
    "df_10_53_kickstarter = [pd.read_csv(f'../data/kickstarter_2018/Kickstarter0{x}.csv') for x in range(10,57)]\n",
    "\n",
    "df_10 = pd.concat(df_10_53_kickstarter)\n"
   ]
  },
  {
   "cell_type": "code",
   "execution_count": 6,
   "metadata": {},
   "outputs": [],
   "source": [
    "df_10.reset_index(inplace = True)"
   ]
  },
  {
   "cell_type": "code",
   "execution_count": 7,
   "metadata": {},
   "outputs": [],
   "source": [
    "list_df = [df_1,df_10]"
   ]
  },
  {
   "cell_type": "code",
   "execution_count": 8,
   "metadata": {},
   "outputs": [],
   "source": [
    "kdf = pd.concat(list_df)"
   ]
  },
  {
   "cell_type": "code",
   "execution_count": 9,
   "metadata": {},
   "outputs": [],
   "source": [
    "kdf.drop(columns = 'index',inplace = True)"
   ]
  },
  {
   "cell_type": "markdown",
   "metadata": {},
   "source": [
    "## Getting all IDs not in tdf to copy the columns and then merge to one df."
   ]
  },
  {
   "cell_type": "code",
   "execution_count": 10,
   "metadata": {},
   "outputs": [],
   "source": [
    "tdf_notin = tdf[(tdf['ID'].isin(kdf['id'])).map({False:True,True:False})].copy()"
   ]
  },
  {
   "cell_type": "code",
   "execution_count": 11,
   "metadata": {},
   "outputs": [],
   "source": [
    "tdf_notin['spotlight'] = 'unknown'\n",
    "tdf_notin['staff_pick'] = 'unknown'"
   ]
  },
  {
   "cell_type": "code",
   "execution_count": 12,
   "metadata": {},
   "outputs": [],
   "source": [
    "kdf['name'] = kdf['name'] + ' ' + kdf['blurb']"
   ]
  },
  {
   "cell_type": "code",
   "execution_count": 13,
   "metadata": {},
   "outputs": [],
   "source": [
    "kdf['main_category'] = kdf['category'].map(lambda x : x.split(':')[3].split(',')[0][1:-1].split('/')[0])"
   ]
  },
  {
   "cell_type": "code",
   "execution_count": 14,
   "metadata": {},
   "outputs": [],
   "source": [
    "kdf['category'] = kdf['category'].map(lambda x : x.split(':')[3].split(',')[0][1:-1].split('/')[-1])"
   ]
  },
  {
   "cell_type": "code",
   "execution_count": 15,
   "metadata": {},
   "outputs": [],
   "source": [
    "kdf['launched']=kdf['launched_at'].map(lambda x : datetime.fromtimestamp(x))\n",
    "kdf['deadline']=kdf['deadline'].map(lambda x : datetime.fromtimestamp(x))"
   ]
  },
  {
   "cell_type": "code",
   "execution_count": 16,
   "metadata": {},
   "outputs": [],
   "source": [
    "tdf_notin['launched'] = tdf_notin['launched'].map(lambda x : pd.to_datetime(x))\n",
    "tdf_notin['deadline'] = tdf_notin['deadline'].map(lambda x : pd.to_datetime(x))"
   ]
  },
  {
   "cell_type": "code",
   "execution_count": 17,
   "metadata": {},
   "outputs": [],
   "source": [
    "kdf['backers'] = kdf['backers_count']\n",
    "tdf_notin['id'] = tdf_notin['ID']"
   ]
  },
  {
   "cell_type": "code",
   "execution_count": 18,
   "metadata": {},
   "outputs": [],
   "source": [
    "kdf['pledged'] = kdf['pledged'].map(lambda x : round(x,2))\n",
    "kdf['usd_pledged'] = kdf['usd_pledged'].map(lambda x : round(x,2))"
   ]
  },
  {
   "cell_type": "code",
   "execution_count": 19,
   "metadata": {},
   "outputs": [],
   "source": [
    "tdf_notin['usd_pledged'] = tdf_notin['usd pledged']"
   ]
  },
  {
   "cell_type": "code",
   "execution_count": 20,
   "metadata": {},
   "outputs": [],
   "source": [
    "kdf.drop_duplicates(['id'],inplace = True)"
   ]
  },
  {
   "cell_type": "code",
   "execution_count": 21,
   "metadata": {},
   "outputs": [],
   "source": [
    "kdf = kdf[['creator','id','name','category','main_category','currency','launched','deadline','pledged','usd_pledged','goal','backers','country','spotlight','staff_pick','state']].copy()"
   ]
  },
  {
   "cell_type": "code",
   "execution_count": 22,
   "metadata": {},
   "outputs": [],
   "source": [
    "kdf.to_csv('./unique_ks.csv')"
   ]
  },
  {
   "cell_type": "code",
   "execution_count": 23,
   "metadata": {},
   "outputs": [],
   "source": [
    "tdf_notin = tdf_notin[['id', 'name', 'category', 'main_category', 'currency','launched','deadline','pledged','usd_pledged',\n",
    "                       'goal','backers','country','spotlight','staff_pick','state']].copy()"
   ]
  },
  {
   "cell_type": "code",
   "execution_count": 24,
   "metadata": {},
   "outputs": [],
   "source": [
    "kdf = kdf[['id','name','category','main_category','currency','launched','deadline','pledged','usd_pledged',\n",
    "           'goal','backers','country','spotlight','staff_pick','state']].copy()"
   ]
  },
  {
   "cell_type": "code",
   "execution_count": 25,
   "metadata": {},
   "outputs": [],
   "source": [
    "df = pd.concat([kdf,tdf_notin])"
   ]
  },
  {
   "cell_type": "markdown",
   "metadata": {},
   "source": [
    "# Total Dataframe"
   ]
  },
  {
   "cell_type": "code",
   "execution_count": 26,
   "metadata": {},
   "outputs": [],
   "source": [
    "df = df.loc[(df['state'] == 'failed') | (df['state'] == 'successful')].copy()"
   ]
  },
  {
   "cell_type": "code",
   "execution_count": 27,
   "metadata": {},
   "outputs": [],
   "source": [
    "df['main_category'] = df['main_category'].map(lambda x : x.lower())"
   ]
  },
  {
   "cell_type": "code",
   "execution_count": 28,
   "metadata": {},
   "outputs": [],
   "source": [
    "df['category'] = df['category'].map(lambda x : x.lower())"
   ]
  },
  {
   "cell_type": "code",
   "execution_count": 29,
   "metadata": {},
   "outputs": [],
   "source": [
    "df.reset_index(drop = True,inplace = True)"
   ]
  },
  {
   "cell_type": "code",
   "execution_count": 30,
   "metadata": {},
   "outputs": [],
   "source": [
    "df['spotlight'] = df['spotlight'].map({True : 'yes', False : 'no','unknown':'unknown'})\n",
    "df['staff_pick'] = df['staff_pick'].map({True : 'yes', False : 'no','unknown':'unknown'})"
   ]
  },
  {
   "cell_type": "code",
   "execution_count": 31,
   "metadata": {},
   "outputs": [],
   "source": [
    "df.to_csv('../data/total_kickstarter.csv',index = False)"
   ]
  },
  {
   "cell_type": "markdown",
   "metadata": {},
   "source": [
    "## Reading in new data"
   ]
  },
  {
   "cell_type": "code",
   "execution_count": 32,
   "metadata": {},
   "outputs": [],
   "source": [
    "df = pd.read_csv('../data/total_kickstarter.csv')"
   ]
  },
  {
   "cell_type": "code",
   "execution_count": 33,
   "metadata": {},
   "outputs": [],
   "source": [
    "df['result'] = df['state'].map({'successful':1,'failed':0})\n",
    "df.drop(columns = 'state',inplace = True)"
   ]
  },
  {
   "cell_type": "code",
   "execution_count": 34,
   "metadata": {},
   "outputs": [],
   "source": [
    "df['launched'] = pd.to_datetime(df['launched'])\n",
    "df['deadline'] = pd.to_datetime(df['deadline'])"
   ]
  },
  {
   "cell_type": "markdown",
   "metadata": {},
   "source": [
    "Feature Engineering technically"
   ]
  },
  {
   "cell_type": "code",
   "execution_count": 35,
   "metadata": {},
   "outputs": [],
   "source": [
    "df['duration'] = df['deadline'] - df['launched']"
   ]
  },
  {
   "cell_type": "code",
   "execution_count": 36,
   "metadata": {},
   "outputs": [],
   "source": [
    "df['name'] = df['name'].map(lambda x : re.sub(\"[^a-zA-Z]\", \" \",str(x)).lower())"
   ]
  },
  {
   "cell_type": "code",
   "execution_count": 37,
   "metadata": {},
   "outputs": [],
   "source": [
    "df['duration'] = df['duration'].map(lambda x : x.days)"
   ]
  },
  {
   "cell_type": "code",
   "execution_count": 38,
   "metadata": {},
   "outputs": [],
   "source": [
    "df['month_launched'] = df['launched'].map(lambda x : x.month)"
   ]
  },
  {
   "cell_type": "code",
   "execution_count": 39,
   "metadata": {},
   "outputs": [],
   "source": [
    "df['month_launched'] = df['month_launched'].map({\n",
    "    1:'jan',\n",
    "    2:'feb',\n",
    "    3:'mar',\n",
    "    4:'apr',\n",
    "    5:'may',\n",
    "    6:'jun',\n",
    "    7:'july',\n",
    "    8:'aug',\n",
    "    9:'sep',\n",
    "    10:'oct',\n",
    "    11:'nov',\n",
    "    12:'dec',\n",
    "})"
   ]
  },
  {
   "cell_type": "code",
   "execution_count": 40,
   "metadata": {},
   "outputs": [],
   "source": [
    "df.to_csv('../data/total_kickstarter.csv',index = False)"
   ]
  },
  {
   "cell_type": "code",
   "execution_count": 41,
   "metadata": {},
   "outputs": [],
   "source": [
    "model_df = pd.get_dummies(data = df,columns = ['currency','main_category','category','country',\n",
    "                                         'spotlight','staff_pick','month_launched','duration'])"
   ]
  },
  {
   "cell_type": "code",
   "execution_count": 43,
   "metadata": {},
   "outputs": [],
   "source": [
    "model_df.to_csv('../data/no_cvec_kickstarter.csv',index = False)"
   ]
  },
  {
   "cell_type": "code",
   "execution_count": null,
   "metadata": {},
   "outputs": [],
   "source": [
    "# df = pd.read_csv('./data/no_cvec_kickstarter.csv')"
   ]
  },
  {
   "cell_type": "code",
   "execution_count": null,
   "metadata": {},
   "outputs": [],
   "source": []
  }
 ],
 "metadata": {
  "kernelspec": {
   "display_name": "Python 3",
   "language": "python",
   "name": "python3"
  },
  "language_info": {
   "codemirror_mode": {
    "name": "ipython",
    "version": 3
   },
   "file_extension": ".py",
   "mimetype": "text/x-python",
   "name": "python",
   "nbconvert_exporter": "python",
   "pygments_lexer": "ipython3",
   "version": "3.7.9"
  }
 },
 "nbformat": 4,
 "nbformat_minor": 4
}
